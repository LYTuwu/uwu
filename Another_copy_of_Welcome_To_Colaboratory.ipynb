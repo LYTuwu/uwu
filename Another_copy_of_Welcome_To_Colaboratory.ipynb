{
  "cells": [
    {
      "cell_type": "code",
      "source": [
        "num=int(input(\"請輸入一個數字：\"))\n",
        "for i  in range(1, num+1):\n",
        "  for j in range(1, num+1):\n",
        "    result=i*j\n",
        "    print(f\"{i}x{j}={result}\",end=\"\\t\")\n",
        "    print()"
      ],
      "metadata": {
        "colab": {
          "base_uri": "https://localhost:8080/"
        },
        "id": "oXUv_OVrBo6D",
        "outputId": "2830e305-d4a4-4cf7-80c5-f39a69b70b1d"
      },
      "execution_count": null,
      "outputs": [
        {
          "output_type": "stream",
          "name": "stdout",
          "text": [
            "請輸入一個數字：3\n",
            "1x1=1\t\n",
            "1x2=2\t\n",
            "1x3=3\t\n",
            "2x1=2\t\n",
            "2x2=4\t\n",
            "2x3=6\t\n",
            "3x1=3\t\n",
            "3x2=6\t\n",
            "3x3=9\t\n"
          ]
        }
      ]
    },
    {
      "cell_type": "code",
      "source": [
        "import random\n",
        "target_number=random.randint(1,100)\n",
        "print(\"歡迎參加猜數字遊戲！\")\n",
        "while True:\n",
        "  guess=int(input(\"猜一個1到100之間的整數\"))\n",
        "  if guess<target_number:print(\"猜太低了\")\n",
        "  elif guess>target_number:print(\"猜太高了\")\n",
        "  else:\n",
        "    print(f\"恭喜，猜中了！答案是{target_number}!\")\n",
        "    break\n",
        "print(\"遊戲結束\")"
      ],
      "metadata": {
        "colab": {
          "base_uri": "https://localhost:8080/"
        },
        "id": "bIDe2rIXEqRM",
        "outputId": "18ff314f-cb95-40e0-96df-c95696f95583"
      },
      "execution_count": null,
      "outputs": [
        {
          "output_type": "stream",
          "name": "stdout",
          "text": [
            "歡迎參加猜數字遊戲！\n",
            "猜一個1到100之間的整數50\n",
            "猜太低了\n",
            "猜一個1到100之間的整數70\n",
            "猜太低了\n",
            "猜一個1到100之間的整數90\n",
            "猜太高了\n",
            "猜一個1到100之間的整數80\n",
            "恭喜，猜中了！答案是80!\n",
            "遊戲結束\n"
          ]
        }
      ]
    }
  ],
  "metadata": {
    "colab": {
      "provenance": []
    },
    "kernelspec": {
      "display_name": "Python 3",
      "name": "python3"
    }
  },
  "nbformat": 4,
  "nbformat_minor": 0
}