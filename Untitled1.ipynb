{
  "nbformat": 4,
  "nbformat_minor": 0,
  "metadata": {
    "colab": {
      "provenance": [],
      "authorship_tag": "ABX9TyN6845UdGIC+ZvpM/dkJklN",
      "include_colab_link": true
    },
    "kernelspec": {
      "name": "python3",
      "display_name": "Python 3"
    },
    "language_info": {
      "name": "python"
    }
  },
  "cells": [
    {
      "cell_type": "markdown",
      "metadata": {
        "id": "view-in-github",
        "colab_type": "text"
      },
      "source": [
        "<a href=\"https://colab.research.google.com/github/LYTuwu/uwu/blob/main/Untitled1.ipynb\" target=\"_parent\"><img src=\"https://colab.research.google.com/assets/colab-badge.svg\" alt=\"Open In Colab\"/></a>"
      ]
    },
    {
      "cell_type": "code",
      "execution_count": 20,
      "metadata": {
        "colab": {
          "base_uri": "https://localhost:8080/"
        },
        "id": "mK8wwxXlFfAI",
        "outputId": "bdf652ab-2c65-4a57-d5df-673a9d8f6ef8"
      },
      "outputs": [
        {
          "output_type": "stream",
          "name": "stdout",
          "text": [
            "\n",
            "您想查詢什麼？（藥方名稱/出典/處方/效能/適應症/退出查詢）：藥方名稱\n",
            "上中下通用痛風丸《丸》\n",
            "\n",
            "您想查詢什麼？（藥方名稱/出典/處方/效能/適應症/退出查詢）：出典\n",
            "上中下通用痛風丸《丸》的出典為:丹溪心法\n",
            "\n",
            "您想查詢什麼？（藥方名稱/出典/處方/效能/適應症/退出查詢）：處方\n",
            "上中下通用痛風丸《丸》的處方為:\n",
            "天南星:4公克\n",
            "總克數為:27.5公克\n",
            "蒼朮:4公克\n",
            "總克數為:27.5公克\n",
            "黃柏:4公克\n",
            "總克數為:27.5公克\n",
            "川芎:2公克\n",
            "總克數為:27.5公克\n",
            "白芷:2公克\n",
            "總克數為:27.5公克\n",
            "神麴:2公克\n",
            "總克數為:27.5公克\n",
            "桃仁:2公克\n",
            "總克數為:27.5公克\n",
            "威靈仙:1公克\n",
            "總克數為:27.5公克\n",
            "羌活:1公克\n",
            "總克數為:27.5公克\n",
            "防己:2公克\n",
            "總克數為:27.5公克\n",
            "桂枝:1公克\n",
            "總克數為:27.5公克\n",
            "紅花:0.5公克\n",
            "總克數為:27.5公克\n",
            "龍膽:2公克\n",
            "總克數為:27.5公克\n",
            "\n",
            "您想查詢什麼？（藥方名稱/出典/處方/效能/適應症/退出查詢）：效能\n",
            "上中下通用痛風丸《丸》的效能為:['疏風祛痰', '清熱燥濕', '活血止痛']\n",
            "\n",
            "您想查詢什麼？（藥方名稱/出典/處方/效能/適應症/退出查詢）：適應症\n",
            "上中下通用痛風丸《丸》的適應症有:\n",
            "感受風寒濕邪\n",
            "挾痰熱\n",
            "血脈不暢\n",
            "骨節疼痛\n",
            "\n",
            "您想查詢什麼？（藥方名稱/出典/處方/效能/適應症/退出查詢）：退出查詢\n",
            "感謝使用，再見！\n"
          ]
        }
      ],
      "source": [
        "prescription={\n",
        "    '名稱':'上中下通用痛風丸《丸》',\n",
        "    '出典':'丹溪心法',\n",
        "    '處方':{\n",
        "          '天南星':4,\n",
        "          '蒼朮':4,\n",
        "          '黃柏':4,\n",
        "          '川芎':2,\n",
        "          '白芷':2,\n",
        "          '神麴':2,\n",
        "          '桃仁':2,\n",
        "          '威靈仙':1,\n",
        "          '羌活':1,\n",
        "          '防己':2,\n",
        "          '桂枝':1,\n",
        "          '紅花':0.5,\n",
        "          '龍膽':2\n",
        "    },\n",
        "    '效能':['疏風祛痰','清熱燥濕','活血止痛'],\n",
        "    '適應症':['感受風寒濕邪','挾痰熱','血脈不暢','骨節疼痛']\n",
        "}\n",
        "while True:\n",
        "  query = input(\"\\n您想查詢什麼？（藥方名稱/出典/處方/效能/適應症/退出查詢）：\")\n",
        "  if query == \"藥方名稱\":\n",
        "    print(f\"{prescription['名稱']}\")\n",
        "  elif query==\"出典\":\n",
        "    print(f\"{prescription['名稱']}的出典為:{prescription['出典']}\")\n",
        "  elif query==\"適應症\":\n",
        "    print(f\"{prescription['名稱']}的適應症有:\")\n",
        "    for symptom in prescription['適應症']:\n",
        "      print(symptom)\n",
        "  elif query==\"處方\":\n",
        "    total_weight=sum(prescription['處方'].values())\n",
        "    print(f\"{prescription['名稱']}的處方為:\")\n",
        "    for medicine, weight in prescription['處方'].items():\n",
        "      print(f\"{medicine}:{weight}公克\")\n",
        "      print(f\"總克數為:{total_weight}公克\")\n",
        "  elif query==\"效能\":\n",
        "    print(f\"{prescription['名稱']}的效能為:{prescription['效能']}\")\n",
        "  elif query==\"退出查詢\":\n",
        "    print(\"感謝使用，再見！\")\n",
        "    break\n",
        "  else:\n",
        "    print(\"輸入無效，請重新輸入。\")"
      ]
    }
  ]
}